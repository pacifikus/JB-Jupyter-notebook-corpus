{
  "nbformat": 4,
  "nbformat_minor": 0,
  "metadata": {
    "colab": {
      "name": "jb_2_notebooks",
      "provenance": [],
      "collapsed_sections": []
    },
    "kernelspec": {
      "name": "python3",
      "display_name": "Python 3"
    },
    "language_info": {
      "name": "python"
    }
  },
  "cells": [
    {
      "cell_type": "markdown",
      "metadata": {
        "id": "lLtjmkFIC1YA"
      },
      "source": [
        "### Задачи\n",
        "\n",
        "Скачайте один любой ноутбук из датасета и выполните следующие задачи:\n",
        "- Найдите и выведите версию юпитер ноутбука и питона.\n",
        "- Создайте таблицу, где будут следующие колонки: cell_id ,тип ячейки (code/markdown/other) и контент ячейки\n",
        "- Для ячеек с маркдауном определите язык текста\n",
        "- Для ячеек с кодом определите количество вызовов функций в ячейке"
      ]
    },
    {
      "cell_type": "markdown",
      "metadata": {
        "id": "2inYJji892OQ"
      },
      "source": [
        "### Установка и импорт библиотек"
      ]
    },
    {
      "cell_type": "code",
      "metadata": {
        "colab": {
          "base_uri": "https://localhost:8080/"
        },
        "id": "UA57pNYgP5EF",
        "outputId": "da56a5c5-f70b-441d-da4d-53f266113703"
      },
      "source": [
        "!pip install polyglot"
      ],
      "execution_count": 47,
      "outputs": [
        {
          "output_type": "stream",
          "text": [
            "Requirement already satisfied: polyglot in /usr/local/lib/python3.7/dist-packages (16.7.4)\n"
          ],
          "name": "stdout"
        }
      ]
    },
    {
      "cell_type": "code",
      "metadata": {
        "colab": {
          "base_uri": "https://localhost:8080/"
        },
        "id": "QioufmiUUK2Y",
        "outputId": "ee2eee87-265a-4623-efbe-a4b7c2f22b6a"
      },
      "source": [
        "!pip install PyICU"
      ],
      "execution_count": 48,
      "outputs": [
        {
          "output_type": "stream",
          "text": [
            "Requirement already satisfied: PyICU in /usr/local/lib/python3.7/dist-packages (2.6)\n"
          ],
          "name": "stdout"
        }
      ]
    },
    {
      "cell_type": "code",
      "metadata": {
        "colab": {
          "base_uri": "https://localhost:8080/"
        },
        "id": "R3g0K7uwUWKy",
        "outputId": "77837df5-6b24-4522-d84f-d9a68d1cbe62"
      },
      "source": [
        "!pip install pycld2"
      ],
      "execution_count": 49,
      "outputs": [
        {
          "output_type": "stream",
          "text": [
            "Requirement already satisfied: pycld2 in /usr/local/lib/python3.7/dist-packages (0.41)\n"
          ],
          "name": "stdout"
        }
      ]
    },
    {
      "cell_type": "code",
      "metadata": {
        "id": "8MyPOiN06F20"
      },
      "source": [
        "from urllib.request import urlretrieve\n",
        "import pandas as pd\n",
        "import json\n",
        "import ast\n",
        "\n",
        "from polyglot.detect import Detector\n",
        "from polyglot.detect.base import logger as polyglot_logger"
      ],
      "execution_count": 50,
      "outputs": []
    },
    {
      "cell_type": "code",
      "metadata": {
        "id": "UEZtYl6W8Cfy"
      },
      "source": [
        "pd.options.mode.chained_assignment = None\n",
        "pd.set_option(\"max_colwidth\", 80)\n",
        "\n",
        "polyglot_logger.setLevel(\"ERROR\")"
      ],
      "execution_count": 51,
      "outputs": []
    },
    {
      "cell_type": "markdown",
      "metadata": {
        "id": "J6g_YAm4_hTZ"
      },
      "source": [
        "### Скачивание ноутбука для анализа"
      ]
    },
    {
      "cell_type": "markdown",
      "metadata": {
        "id": "MimVpXkD8O7o"
      },
      "source": [
        "Команда Datalore by JetBrains провела анализ нескольких миллионов публично доступных репозиториев Github с Jupyter-ноутбуками. Датасет из 9,72 миллиона файлов доступен для скачивания:\n",
        "\n",
        "- JSON с именами файлов jupyter ноутбуков https://github-notebooks-samples.s3-eu-west-1.amazonaws.com/ntbslist.json\n",
        "\n",
        "- Для получения прямой ссылки можно добавить имя файла из JSON к адресу бакета, например: https://github-notebooks-update1.s3-eu-west-1.amazonaws.com/0000137e4ae8e20431accee8cd5e54c609061846.ipynb"
      ]
    },
    {
      "cell_type": "code",
      "metadata": {
        "colab": {
          "base_uri": "https://localhost:8080/"
        },
        "id": "lI8GV9Wi6GTs",
        "outputId": "2f1e6694-be6f-4de9-f694-d74d09c7374a"
      },
      "source": [
        "notebook_url = 'https://github-notebooks-update1.s3-eu-west-1.amazonaws.com/0000137e4ae8e20431accee8cd5e54c609061846.ipynb'\n",
        "notebook_path = 'target_notebook.ipynb'\n",
        "urlretrieve(notebook_url, notebook_path)"
      ],
      "execution_count": 52,
      "outputs": [
        {
          "output_type": "execute_result",
          "data": {
            "text/plain": [
              "('target_notebook.ipynb', <http.client.HTTPMessage at 0x7fdc67d51510>)"
            ]
          },
          "metadata": {
            "tags": []
          },
          "execution_count": 52
        }
      ]
    },
    {
      "cell_type": "markdown",
      "metadata": {
        "id": "8QGG3M_n_qcP"
      },
      "source": [
        "### Базовая структура классов\n",
        "\n",
        "Для упрощения работы можно использовать классы ячейки и ноутбука, внутри которых определить методы для получения метаданных.\n",
        "\n",
        "На верхнем уровне абстракции Jupyter ноутбук - это словарь с несколькими ключами:\n",
        "- metadata (dict)\n",
        "- nbformat (int)\n",
        "- nbformat_minor (int)\n",
        "- cells (list)\n",
        "\n",
        "Данные о ядре и языке ноутбука можно получить по ключу **metadata**. В свою очередь ячейки со своими метаданными содержатся по ключу **cells**.\n",
        "\n",
        "[Подробнее](https://ipython.org/ipython-doc/3/notebook/nbformat.html)"
      ]
    },
    {
      "cell_type": "code",
      "metadata": {
        "id": "C7sm4ihS6Gby"
      },
      "source": [
        "class Cell:\n",
        "  def __init__(self, id, cell_type, content):\n",
        "    self.content = content\n",
        "    self.ctype = cell_type\n",
        "    self.id = id\n",
        "  \n",
        "\n",
        "class NoteBook:\n",
        "  def __init__(self, data):\n",
        "    self.json_data = data\n",
        "    self.__obtain_metadata()\n",
        "\n",
        "  def __obtain_metadata(self):\n",
        "    self.kernel_name = self.json_data['metadata']['kernelspec']['display_name']\n",
        "    self.language_version = self.json_data['metadata']['language_info']['version']\n",
        "\n",
        "    self.cells = []\n",
        "\n",
        "    for cell_obj in self.json_data['cells']:\n",
        "      content = ''.join(cell_obj['source'])\n",
        "      cell = Cell(\n",
        "          id=cell_obj['metadata']['id'], \n",
        "          cell_type=cell_obj['cell_type'], \n",
        "          content=content\n",
        "      )\n",
        "      self.cells.append(cell)\n",
        "\n",
        "  def __make_cells_table_cols(self):\n",
        "    for cell in self.cells:\n",
        "      yield (cell.id, cell.ctype, cell.content)\n",
        "\n",
        "  @property\n",
        "  def kernel_version(self):\n",
        "    return f'Ядро ноутбука - {self.kernel_name}'\n",
        "\n",
        "  @property\n",
        "  def python_version(self):\n",
        "    return f'Версия python - {self.language_version}'\n",
        "\n",
        "  @property\n",
        "  def cells_table(self):\n",
        "    return pd.DataFrame(\n",
        "        data=[item for item in self.__make_cells_table_cols()],\n",
        "         columns=['Id', 'Type', 'Content']\n",
        "    )"
      ],
      "execution_count": 53,
      "outputs": []
    },
    {
      "cell_type": "markdown",
      "metadata": {
        "id": "ZVRPy89gA_9x"
      },
      "source": [
        "### Версия ядра и python "
      ]
    },
    {
      "cell_type": "code",
      "metadata": {
        "colab": {
          "base_uri": "https://localhost:8080/"
        },
        "id": "mqiHDiYk6GYH",
        "outputId": "69f25f4f-cb6e-40d4-d822-f44d8d2d215a"
      },
      "source": [
        "with open(notebook_path, \"r\") as read_file:\n",
        "    notebook_obj = json.load(read_file)\n",
        "    nb = NoteBook(notebook_obj)\n",
        "    print(nb.kernel_version)\n",
        "    print(nb.python_version)"
      ],
      "execution_count": 54,
      "outputs": [
        {
          "output_type": "stream",
          "text": [
            "Ядро ноутбука - Python 3\n",
            "Версия python - 3.7.4\n"
          ],
          "name": "stdout"
        }
      ]
    },
    {
      "cell_type": "markdown",
      "metadata": {
        "id": "xrs9kJN3BKvo"
      },
      "source": [
        "### Содержимое и тип всех ячеек"
      ]
    },
    {
      "cell_type": "code",
      "metadata": {
        "colab": {
          "base_uri": "https://localhost:8080/",
          "height": 204
        },
        "id": "9h2HCJ10NpcV",
        "outputId": "b4e7d671-935c-451f-a949-085d84d80f4d"
      },
      "source": [
        "cells = nb.cells_table\n",
        "cells.head()"
      ],
      "execution_count": 55,
      "outputs": [
        {
          "output_type": "execute_result",
          "data": {
            "text/html": [
              "<div>\n",
              "<style scoped>\n",
              "    .dataframe tbody tr th:only-of-type {\n",
              "        vertical-align: middle;\n",
              "    }\n",
              "\n",
              "    .dataframe tbody tr th {\n",
              "        vertical-align: top;\n",
              "    }\n",
              "\n",
              "    .dataframe thead th {\n",
              "        text-align: right;\n",
              "    }\n",
              "</style>\n",
              "<table border=\"1\" class=\"dataframe\">\n",
              "  <thead>\n",
              "    <tr style=\"text-align: right;\">\n",
              "      <th></th>\n",
              "      <th>Id</th>\n",
              "      <th>Type</th>\n",
              "      <th>Content</th>\n",
              "    </tr>\n",
              "  </thead>\n",
              "  <tbody>\n",
              "    <tr>\n",
              "      <th>0</th>\n",
              "      <td>KV1cRrUadT7_</td>\n",
              "      <td>code</td>\n",
              "      <td>import pystan\\nimport pandas as pd\\nimport os\\nimport re\\nimport numpy as np...</td>\n",
              "    </tr>\n",
              "    <tr>\n",
              "      <th>1</th>\n",
              "      <td>SVgT--Y4dT8I</td>\n",
              "      <td>markdown</td>\n",
              "      <td># **Data**\\n\\n20 students taking CS146 during the Spring 2020 semester compi...</td>\n",
              "    </tr>\n",
              "    <tr>\n",
              "      <th>2</th>\n",
              "      <td>jBABL3T4dT8K</td>\n",
              "      <td>code</td>\n",
              "      <td>'''\\nData pre-processed in Excel:\\nNormalized data;\\nManually fixed data ent...</td>\n",
              "    </tr>\n",
              "    <tr>\n",
              "      <th>3</th>\n",
              "      <td>SSpe0b4hdT8P</td>\n",
              "      <td>markdown</td>\n",
              "      <td>After deleting 296 observations with missing prices, we have a final dataset...</td>\n",
              "    </tr>\n",
              "    <tr>\n",
              "      <th>4</th>\n",
              "      <td>jCmzioksdT8R</td>\n",
              "      <td>code</td>\n",
              "      <td>for col in ['Store', 'Neighborhood', 'Product']:\\n    df_clean[col] = df_cle...</td>\n",
              "    </tr>\n",
              "  </tbody>\n",
              "</table>\n",
              "</div>"
            ],
            "text/plain": [
              "             Id  ...                                                                          Content\n",
              "0  KV1cRrUadT7_  ...  import pystan\\nimport pandas as pd\\nimport os\\nimport re\\nimport numpy as np...\n",
              "1  SVgT--Y4dT8I  ...  # **Data**\\n\\n20 students taking CS146 during the Spring 2020 semester compi...\n",
              "2  jBABL3T4dT8K  ...  '''\\nData pre-processed in Excel:\\nNormalized data;\\nManually fixed data ent...\n",
              "3  SSpe0b4hdT8P  ...  After deleting 296 observations with missing prices, we have a final dataset...\n",
              "4  jCmzioksdT8R  ...  for col in ['Store', 'Neighborhood', 'Product']:\\n    df_clean[col] = df_cle...\n",
              "\n",
              "[5 rows x 3 columns]"
            ]
          },
          "metadata": {
            "tags": []
          },
          "execution_count": 55
        }
      ]
    },
    {
      "cell_type": "markdown",
      "metadata": {
        "id": "q7R3gzPCBXeX"
      },
      "source": [
        "### Определение языка для ячеек с типом markdown"
      ]
    },
    {
      "cell_type": "code",
      "metadata": {
        "id": "dAyEDzaBvRlK"
      },
      "source": [
        "def determine_language(content):\n",
        "  top_lang = Detector(content).languages[0]\n",
        "  return top_lang.name"
      ],
      "execution_count": 56,
      "outputs": []
    },
    {
      "cell_type": "code",
      "metadata": {
        "colab": {
          "base_uri": "https://localhost:8080/",
          "height": 204
        },
        "id": "gTcfzL1ePQ3y",
        "outputId": "85598e8a-81f5-4b1c-a927-a8234f7abff5"
      },
      "source": [
        "markdown_cells = cells[cells['Type'] == 'markdown']\n",
        "markdown_cells['language'] = markdown_cells['Content'].map(lambda x: determine_language(x))\n",
        "markdown_cells.head()"
      ],
      "execution_count": 57,
      "outputs": [
        {
          "output_type": "execute_result",
          "data": {
            "text/html": [
              "<div>\n",
              "<style scoped>\n",
              "    .dataframe tbody tr th:only-of-type {\n",
              "        vertical-align: middle;\n",
              "    }\n",
              "\n",
              "    .dataframe tbody tr th {\n",
              "        vertical-align: top;\n",
              "    }\n",
              "\n",
              "    .dataframe thead th {\n",
              "        text-align: right;\n",
              "    }\n",
              "</style>\n",
              "<table border=\"1\" class=\"dataframe\">\n",
              "  <thead>\n",
              "    <tr style=\"text-align: right;\">\n",
              "      <th></th>\n",
              "      <th>Id</th>\n",
              "      <th>Type</th>\n",
              "      <th>Content</th>\n",
              "      <th>language</th>\n",
              "    </tr>\n",
              "  </thead>\n",
              "  <tbody>\n",
              "    <tr>\n",
              "      <th>1</th>\n",
              "      <td>SVgT--Y4dT8I</td>\n",
              "      <td>markdown</td>\n",
              "      <td># **Data**\\n\\n20 students taking CS146 during the Spring 2020 semester compi...</td>\n",
              "      <td>English</td>\n",
              "    </tr>\n",
              "    <tr>\n",
              "      <th>3</th>\n",
              "      <td>SSpe0b4hdT8P</td>\n",
              "      <td>markdown</td>\n",
              "      <td>After deleting 296 observations with missing prices, we have a final dataset...</td>\n",
              "      <td>English</td>\n",
              "    </tr>\n",
              "    <tr>\n",
              "      <th>5</th>\n",
              "      <td>jHRlVKExgGR9</td>\n",
              "      <td>markdown</td>\n",
              "      <td>From the means above, we can see that a single egg is the cheapest product t...</td>\n",
              "      <td>English</td>\n",
              "    </tr>\n",
              "    <tr>\n",
              "      <th>7</th>\n",
              "      <td>CMKusirbfNts</td>\n",
              "      <td>markdown</td>\n",
              "      <td>From the descriptive statistics above, it seems that Supermercados Día has t...</td>\n",
              "      <td>English</td>\n",
              "    </tr>\n",
              "    <tr>\n",
              "      <th>9</th>\n",
              "      <td>Y49hpJ5YjdrM</td>\n",
              "      <td>markdown</td>\n",
              "      <td>Comparing the price ranges of Taipei and Buenos Aires neighborhoods points t...</td>\n",
              "      <td>English</td>\n",
              "    </tr>\n",
              "  </tbody>\n",
              "</table>\n",
              "</div>"
            ],
            "text/plain": [
              "             Id  ... language\n",
              "1  SVgT--Y4dT8I  ...  English\n",
              "3  SSpe0b4hdT8P  ...  English\n",
              "5  jHRlVKExgGR9  ...  English\n",
              "7  CMKusirbfNts  ...  English\n",
              "9  Y49hpJ5YjdrM  ...  English\n",
              "\n",
              "[5 rows x 4 columns]"
            ]
          },
          "metadata": {
            "tags": []
          },
          "execution_count": 57
        }
      ]
    },
    {
      "cell_type": "markdown",
      "metadata": {
        "id": "CFyTUuZVBbtv"
      },
      "source": [
        "### Определение количества вызовов функций в ячейках с кодом"
      ]
    },
    {
      "cell_type": "markdown",
      "metadata": {
        "id": "-ueKV0VtCJKw"
      },
      "source": [
        "Исходный код в содержимом ячеек представляет собой текст, поэтому для определения количества вызовов функций можно было бы использовать регулярные выражения, или воспользоваться абстрактным синтаксическим деревом (AST). Оно создаётся на стадии синтаксического разбора, обрабатывается путём обхода при проверке семантических правил и проверке/определении типов, а затем также путём обхода AST выполняется генерация кода.\n",
        "\n",
        "В python существует стандартный модуль ast.\n",
        "\n",
        "[Подробнее](https://docs.python.org/3/library/ast.html)"
      ]
    },
    {
      "cell_type": "code",
      "metadata": {
        "id": "m64XdmRN6dpK"
      },
      "source": [
        "class CallParser(ast.NodeVisitor):\n",
        "    def __init__(self):\n",
        "        self.fparts = []\n",
        "\n",
        "    def visit_Attribute(self, node):\n",
        "        ast.NodeVisitor.generic_visit(self, node)\n",
        "        self.fparts.append(node.attr)\n",
        "\n",
        "    def visit_Name(self, node):\n",
        "        self.fparts.append(node.id)\n",
        "\n",
        "\n",
        "class FindCalls(ast.NodeVisitor):\n",
        "  def __init__(self):\n",
        "        self.fnames = []\n",
        "\n",
        "  def visit_Call(self, node):\n",
        "      parser = CallParser()\n",
        "      parser.visit(node.func)\n",
        "      self.fnames.append(\".\".join(parser.fparts))\n",
        "      ast.NodeVisitor.generic_visit(self, node)"
      ],
      "execution_count": 58,
      "outputs": []
    },
    {
      "cell_type": "code",
      "metadata": {
        "id": "MdisEtisPQ80"
      },
      "source": [
        "def count_fun_calls(content):\n",
        "  tree = ast.parse(content)\n",
        "  fc = FindCalls()\n",
        "  fc.visit(tree)\n",
        "  return fc.fnames"
      ],
      "execution_count": 59,
      "outputs": []
    },
    {
      "cell_type": "code",
      "metadata": {
        "colab": {
          "base_uri": "https://localhost:8080/",
          "height": 204
        },
        "id": "tZue_GPYCMSQ",
        "outputId": "ac67227f-3da6-46bd-ea7c-a82dde138c4f"
      },
      "source": [
        "code_cells = cells[cells['Type'] == 'code']\n",
        "code_cells['Functions calls'] = code_cells['Content'].map(lambda x: count_fun_calls(x))\n",
        "code_cells['Functions calls count'] = code_cells['Functions calls'].map(lambda x: len(x))\n",
        "code_cells.head()"
      ],
      "execution_count": 60,
      "outputs": [
        {
          "output_type": "execute_result",
          "data": {
            "text/html": [
              "<div>\n",
              "<style scoped>\n",
              "    .dataframe tbody tr th:only-of-type {\n",
              "        vertical-align: middle;\n",
              "    }\n",
              "\n",
              "    .dataframe tbody tr th {\n",
              "        vertical-align: top;\n",
              "    }\n",
              "\n",
              "    .dataframe thead th {\n",
              "        text-align: right;\n",
              "    }\n",
              "</style>\n",
              "<table border=\"1\" class=\"dataframe\">\n",
              "  <thead>\n",
              "    <tr style=\"text-align: right;\">\n",
              "      <th></th>\n",
              "      <th>Id</th>\n",
              "      <th>Type</th>\n",
              "      <th>Content</th>\n",
              "      <th>Functions calls</th>\n",
              "      <th>Functions calls count</th>\n",
              "    </tr>\n",
              "  </thead>\n",
              "  <tbody>\n",
              "    <tr>\n",
              "      <th>0</th>\n",
              "      <td>KV1cRrUadT7_</td>\n",
              "      <td>code</td>\n",
              "      <td>import pystan\\nimport pandas as pd\\nimport os\\nimport re\\nimport numpy as np...</td>\n",
              "      <td>[drive.mount]</td>\n",
              "      <td>1</td>\n",
              "    </tr>\n",
              "    <tr>\n",
              "      <th>2</th>\n",
              "      <td>jBABL3T4dT8K</td>\n",
              "      <td>code</td>\n",
              "      <td>'''\\nData pre-processed in Excel:\\nNormalized data;\\nManually fixed data ent...</td>\n",
              "      <td>[pd.read_csv, data.head, df.head, pd.melt, df.rename, df.replace, df.head, p...</td>\n",
              "      <td>15</td>\n",
              "    </tr>\n",
              "    <tr>\n",
              "      <th>4</th>\n",
              "      <td>jCmzioksdT8R</td>\n",
              "      <td>code</td>\n",
              "      <td>for col in ['Store', 'Neighborhood', 'Product']:\\n    df_clean[col] = df_cle...</td>\n",
              "      <td>[df_clean.col.astype, plt.figure, plt.scatter, plt.show, print, price.groupb...</td>\n",
              "      <td>7</td>\n",
              "    </tr>\n",
              "    <tr>\n",
              "      <th>6</th>\n",
              "      <td>Bcqy-vQwfE23</td>\n",
              "      <td>code</td>\n",
              "      <td># Store descriptive statistics\\nplt.figure(figsize=(15,8))\\nplt.scatter(stor...</td>\n",
              "      <td>[plt.figure, plt.scatter, plt.show, print, price.groupby.store.mean, price.g...</td>\n",
              "      <td>6</td>\n",
              "    </tr>\n",
              "    <tr>\n",
              "      <th>8</th>\n",
              "      <td>SUC7p9N4fIhw</td>\n",
              "      <td>code</td>\n",
              "      <td># Neighborhood descriptive statistics\\nplt.figure(figsize=(15,8))\\nplt.scatt...</td>\n",
              "      <td>[plt.figure, plt.scatter, plt.show, print, price.groupby.neighborhood.mean, ...</td>\n",
              "      <td>6</td>\n",
              "    </tr>\n",
              "  </tbody>\n",
              "</table>\n",
              "</div>"
            ],
            "text/plain": [
              "             Id  ... Functions calls count\n",
              "0  KV1cRrUadT7_  ...                     1\n",
              "2  jBABL3T4dT8K  ...                    15\n",
              "4  jCmzioksdT8R  ...                     7\n",
              "6  Bcqy-vQwfE23  ...                     6\n",
              "8  SUC7p9N4fIhw  ...                     6\n",
              "\n",
              "[5 rows x 5 columns]"
            ]
          },
          "metadata": {
            "tags": []
          },
          "execution_count": 60
        }
      ]
    }
  ]
}